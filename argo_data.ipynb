{
 "cells": [
  {
   "cell_type": "markdown",
   "metadata": {},
   "source": [
    "# Argo data demo\n",
    "\n",
    "Student: Gerardo Rivera Tello\n",
    "\n",
    "OCN 620, Fall 2024"
   ]
  },
  {
   "cell_type": "code",
   "execution_count": 143,
   "metadata": {},
   "outputs": [],
   "source": [
    "from argopy import DataFetcher, IndexFetcher\n",
    "from argopy.plot import scatter_map\n",
    "import xarray as xr\n",
    "import numpy as np\n",
    "import matplotlib.pyplot as plt\n",
    "import gsw\n",
    "import cmocean as cmo\n",
    "\n",
    "plt.rcParams[\"font.family\"] = \"monospace\""
   ]
  },
  {
   "cell_type": "markdown",
   "metadata": {},
   "source": [
    "First we need to define the region we want to use to select the available floats"
   ]
  },
  {
   "cell_type": "code",
   "execution_count": null,
   "metadata": {},
   "outputs": [],
   "source": [
    "region = IndexFetcher().region([-161, -154, 18, 23, \"2024-01\", \"2024-10\"]).load()\n",
    "region"
   ]
  },
  {
   "cell_type": "markdown",
   "metadata": {},
   "source": [
    "We can plot the trajectories with the platform number (wmo code) as the legend"
   ]
  },
  {
   "cell_type": "code",
   "execution_count": null,
   "metadata": {},
   "outputs": [],
   "source": [
    "region.plot(\"trajectory\")"
   ]
  },
  {
   "cell_type": "markdown",
   "metadata": {},
   "source": [
    "Argopy has nice plotting utilities so we can explore the statistics of the floats"
   ]
  },
  {
   "cell_type": "code",
   "execution_count": null,
   "metadata": {},
   "outputs": [],
   "source": [
    "region.plot(\"dac\")"
   ]
  },
  {
   "cell_type": "code",
   "execution_count": null,
   "metadata": {},
   "outputs": [],
   "source": [
    "region.plot(\"profiler\")"
   ]
  },
  {
   "cell_type": "markdown",
   "metadata": {},
   "source": [
    "After exploring and playing around with the indexed data, we can switch to the `DataFetcher` which will be used to retrieve the data from the floats"
   ]
  },
  {
   "cell_type": "code",
   "execution_count": 9,
   "metadata": {},
   "outputs": [],
   "source": [
    "float_data = (\n",
    "    DataFetcher(mode=\"expert\")\n",
    "    .region([-161, -154, 18, 23, 0, 2000, \"2024-01\", \"2024-10\"])\n",
    "    .load()\n",
    ")\n",
    "ds = float_data.data.argo.point2profile()\n",
    "df = float_data.index"
   ]
  },
  {
   "cell_type": "markdown",
   "metadata": {},
   "source": [
    "Again, `argopy` has nice features to do some plotting with different hues that are defined by the data"
   ]
  },
  {
   "cell_type": "code",
   "execution_count": null,
   "metadata": {},
   "outputs": [],
   "source": [
    "scatter_map(ds, hue=\"DATA_MODE\")"
   ]
  },
  {
   "cell_type": "markdown",
   "metadata": {},
   "source": [
    "We can explore the data by inspecting the `ds` variable"
   ]
  },
  {
   "cell_type": "code",
   "execution_count": null,
   "metadata": {},
   "outputs": [],
   "source": [
    "single_profile = ds.isel(N_PROF=10)\n",
    "single_profile"
   ]
  },
  {
   "cell_type": "code",
   "execution_count": 27,
   "metadata": {},
   "outputs": [],
   "source": [
    "Z = gsw.z_from_p(single_profile.PRES.values, single_profile.LATITUDE.values)\n",
    "SA = gsw.SA_from_SP(\n",
    "    single_profile.PSAL.values,\n",
    "    single_profile.PRES.values,\n",
    "    single_profile.LONGITUDE.values,\n",
    "    single_profile.LATITUDE.values,\n",
    ")\n",
    "CT = gsw.CT_from_t(SA, single_profile.TEMP.values, single_profile.PRES.values)\n",
    "\n",
    "RHO = gsw.rho(SA, CT, single_profile.PRES.values)"
   ]
  },
  {
   "cell_type": "code",
   "execution_count": null,
   "metadata": {},
   "outputs": [],
   "source": [
    "fig, axs = plt.subplots(1, 3, figsize=(10, 5), sharey=True)\n",
    "axs[0].plot(RHO, Z, c=\"b\")\n",
    "axs[0].set_xlabel(\"Density (kg/m^3)\")\n",
    "axs[0].set_ylabel(\"Depth (m)\")\n",
    "\n",
    "axs[1].plot(SA, Z, c=\"g\")\n",
    "axs[1].set_xlabel(\"Absolute Salinity (g/kg)\")\n",
    "\n",
    "axs[2].plot(CT, Z, c=\"r\")\n",
    "axs[2].set_xlabel(\"Conservative Temperature (C)\")\n",
    "\n",
    "for _ax in axs:\n",
    "    _ax.grid(ls=\"--\")"
   ]
  },
  {
   "cell_type": "markdown",
   "metadata": {},
   "source": [
    "We can extend this by doing a hovmoller of these variables for a single float"
   ]
  },
  {
   "cell_type": "code",
   "execution_count": null,
   "metadata": {},
   "outputs": [],
   "source": [
    "WMO = 1902685\n",
    "single_profile = ds.where(ds.PLATFORM_NUMBER == WMO, drop=True)\n",
    "single_profile"
   ]
  },
  {
   "cell_type": "code",
   "execution_count": null,
   "metadata": {},
   "outputs": [],
   "source": [
    "scatter_map(single_profile, hue=\"DATA_MODE\")"
   ]
  },
  {
   "cell_type": "markdown",
   "metadata": {},
   "source": [
    "We do the same computation as before"
   ]
  },
  {
   "cell_type": "code",
   "execution_count": 115,
   "metadata": {},
   "outputs": [],
   "source": [
    "Z = gsw.z_from_p(\n",
    "    single_profile.PRES.values,\n",
    "    np.stack([single_profile.LATITUDE.values] * single_profile.PRES.shape[1], axis=1),\n",
    ")\n",
    "SA = gsw.SA_from_SP(\n",
    "    single_profile.PSAL.values,\n",
    "    single_profile.PRES.values,\n",
    "    np.stack([single_profile.LONGITUDE.values] * single_profile.PRES.shape[1], axis=1),\n",
    "    np.stack([single_profile.LATITUDE.values] * single_profile.PRES.shape[1], axis=1),\n",
    ")\n",
    "CT = gsw.CT_from_t(SA, single_profile.TEMP.values, single_profile.PRES.values)\n",
    "\n",
    "RHO = gsw.rho(SA, CT, single_profile.PRES.values)"
   ]
  },
  {
   "cell_type": "markdown",
   "metadata": {},
   "source": [
    "Lastly, we convert the variables into xarray dataarrays so we can plot them easily"
   ]
  },
  {
   "cell_type": "code",
   "execution_count": 138,
   "metadata": {},
   "outputs": [],
   "source": [
    "not_nan = ~np.isnan(Z[0])\n",
    "SA = xr.DataArray(\n",
    "    SA[:, not_nan],\n",
    "    dims=[\"TIME\", \"DEPTH\"],\n",
    "    coords={\"TIME\": single_profile.TIME.values, \"DEPTH\": Z[0, not_nan]},\n",
    ")\n",
    "CT = xr.DataArray(\n",
    "    CT[:, not_nan],\n",
    "    dims=[\"TIME\", \"DEPTH\"],\n",
    "    coords={\"TIME\": single_profile.TIME.values, \"DEPTH\": Z[0, not_nan]},\n",
    ")\n",
    "RHO = xr.DataArray(\n",
    "    RHO[:, not_nan],\n",
    "    dims=[\"TIME\", \"DEPTH\"],\n",
    "    coords={\"TIME\": single_profile.TIME.values, \"DEPTH\": Z[0, not_nan]},\n",
    ")"
   ]
  },
  {
   "cell_type": "code",
   "execution_count": null,
   "metadata": {},
   "outputs": [],
   "source": [
    "fig, axs = plt.subplots(3, 1, figsize=(10, 10))\n",
    "RHO.plot(\n",
    "    ax=axs[0], x=\"TIME\", cmap=cmo.cm.dense, cbar_kwargs={\"label\": \"Density (kg/m^3)\"}\n",
    ")\n",
    "cont = RHO.plot.contour(ax=axs[0], x=\"TIME\", colors=\"k\", levels=10, linewidths=0.5)\n",
    "axs[0].clabel(cont, inline=True, fontsize=8, fmt=\"%1.2f\")\n",
    "\n",
    "SA.plot(\n",
    "    ax=axs[1],\n",
    "    x=\"TIME\",\n",
    "    cmap=cmo.cm.haline,\n",
    "    cbar_kwargs={\"label\": \"Absolute Salinity (g/kg)\"},\n",
    ")\n",
    "cont = SA.plot.contour(ax=axs[1], x=\"TIME\", colors=\"k\", levels=10, linewidths=0.5)\n",
    "axs[1].clabel(cont, inline=True, fontsize=8, fmt=\"%1.2f\")\n",
    "\n",
    "CT.plot(\n",
    "    ax=axs[2],\n",
    "    x=\"TIME\",\n",
    "    cmap=cmo.cm.thermal,\n",
    "    cbar_kwargs={\"label\": \"Conservative Temperature (C)\"},\n",
    ")\n",
    "cont = CT.plot.contour(ax=axs[2], x=\"TIME\", colors=\"k\", levels=10, linewidths=0.5)\n",
    "axs[2].clabel(cont, inline=True, fontsize=8, fmt=\"%1.2f\")\n",
    "\n",
    "for _ax in axs:\n",
    "    _ax.set_ylim(-1000, 0)\n",
    "    _ax.set_xlim(single_profile.TIME.min(), single_profile.TIME.max())\n",
    "    _ax.grid(ls=\"dotted\", alpha=0.5)"
   ]
  },
  {
   "cell_type": "code",
   "execution_count": null,
   "metadata": {},
   "outputs": [],
   "source": []
  }
 ],
 "metadata": {
  "kernelspec": {
   "display_name": "argopy",
   "language": "python",
   "name": "python3"
  },
  "language_info": {
   "codemirror_mode": {
    "name": "ipython",
    "version": 3
   },
   "file_extension": ".py",
   "mimetype": "text/x-python",
   "name": "python",
   "nbconvert_exporter": "python",
   "pygments_lexer": "ipython3",
   "version": "3.12.7"
  }
 },
 "nbformat": 4,
 "nbformat_minor": 2
}
